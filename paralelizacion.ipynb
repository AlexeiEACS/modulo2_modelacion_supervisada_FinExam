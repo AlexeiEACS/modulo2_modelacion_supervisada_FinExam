{
 "cells": [
  {
   "cell_type": "code",
   "execution_count": 1,
   "metadata": {},
   "outputs": [],
   "source": [
    "import pandas as pd\n",
    "import numpy as np\n",
    "\n",
    "import matplotlib.pyplot as plt\n",
    "import seaborn as sns\n",
    "sns.set()\n",
    "\n",
    "import dask\n",
    "import dask.dataframe as dd\n",
    "from dask import delayed, compute\n",
    "\n",
    "import os \n",
    "\n",
    "from sklearn.impute import SimpleImputer\n",
    "from sklearn.preprocessing import LabelEncoder\n",
    "\n",
    "from imblearn.under_sampling import TomekLinks\n",
    "from sklearn.model_selection import train_test_split\n",
    "from sklearn.metrics import recall_score, precision_score, f1_score\n",
    "\n",
    "from xgboost import XGBClassifier\n",
    "\n",
    "from sklearn.ensemble import RandomForestClassifier\n",
    "\n",
    "import warnings\n",
    "\n",
    "pd.options.display.max_columns = None\n",
    "warnings.filterwarnings(\"ignore\", category=FutureWarning)"
   ]
  },
  {
   "cell_type": "code",
   "execution_count": 2,
   "metadata": {},
   "outputs": [
    {
     "data": {
      "text/plain": [
       "['credit_card_transactions-ibm_v2.csv', 'sd254_users.csv', 'sd254_cards.csv']"
      ]
     },
     "execution_count": 2,
     "metadata": {},
     "output_type": "execute_result"
    }
   ],
   "source": [
    "dataPath = 'data/'\n",
    "files = [file for file in os.listdir(dataPath)]\n",
    "files"
   ]
  },
  {
   "cell_type": "code",
   "execution_count": 3,
   "metadata": {},
   "outputs": [],
   "source": [
    "transactions = dd.read_csv(dataPath + 'credit_card_transactions-ibm_v2.csv', dtype={'Errors?': 'object'})\n",
    "user_info = dd.read_csv(dataPath + 'sd254_users.csv')\n",
    "card_info = dd.read_csv(dataPath + 'sd254_cards.csv')"
   ]
  },
  {
   "cell_type": "code",
   "execution_count": 4,
   "metadata": {},
   "outputs": [],
   "source": [
    "transactions[\"Date\"] = dd.to_datetime(transactions[[\"Year\", \"Month\", 'Day']])\n",
    "transactions = transactions[transactions.Date >= '2019-01-01']"
   ]
  },
  {
   "cell_type": "code",
   "execution_count": 5,
   "metadata": {},
   "outputs": [],
   "source": [
    "union = dd.merge(transactions, user_info, left_on= 'User',right_index= True, how= 'left')\n",
    "union = dd.merge(union, card_info, left_on= 'User',right_on= 'User', how= 'left')"
   ]
  },
  {
   "cell_type": "code",
   "execution_count": 6,
   "metadata": {},
   "outputs": [],
   "source": [
    "# Si no tiene estas columnas no sería posible hacer un análisis de la información\n",
    "union = union.dropna(subset= [\n",
    "    'User', 'Card', 'Month', 'Day', 'Is Fraud?', # De Transactions\n",
    "    'Person', 'City', 'State', 'Zipcode', # De user_info\n",
    "    'Card Brand', 'Card Type', 'Has Chip', 'Cards Issued', 'Credit Limit', 'Expires', 'Acct Open Date' # De union\n",
    "    ])\n",
    "\n",
    "# Amount pasamos a numérico\n",
    "union = union.assign(\n",
    "    Amount=union['Amount'].str.replace('$', '').astype('float64'),\n",
    "    Credit_Limit = union['Credit Limit'].str.replace('$', '').astype('float64'),\n",
    "    Total_Debt = union['Total Debt'].str.replace('$', '').astype('float64'),\n",
    "    Per_Capita_Income_Zipcode = union['Per Capita Income - Zipcode'].str.replace('$', '').astype('float64'),\n",
    "    Yearly_Income_Person = union['Yearly Income - Person'].str.replace('$', '').astype('float64')\n",
    ")\n",
    "\n",
    "\n",
    "union = union.drop(\n",
    "    ['Credit Limit', 'Total Debt', 'Per Capita Income - Zipcode', 'Yearly Income - Person'],\n",
    "    axis = 1)\n",
    "\n",
    "\n",
    "# Formato de fecha\n",
    "union = union.assign(\n",
    "    Acct_Open_Date = dd.to_datetime(union['Acct Open Date'], format= '%m/%Y'),\n",
    "    Expires= dd.to_datetime(union['Expires'], format= '%m/%Y'),\n",
    "    )\n",
    "union = union.drop(\n",
    "    ['Acct Open Date'],\n",
    "    axis = 1)\n",
    "\n",
    "# Cambio de formatos\n",
    "union = union.assign(\n",
    "    Zip = union['Zip'].astype('object'),\n",
    "\n",
    ")\n",
    "\n",
    "\n",
    "# Remplazar datos faltantes\n",
    "union = union.assign(\n",
    "    Merchant_Name = union['Merchant Name'].replace(np.nan, 'No registrado'),\n",
    "    Merchant_City = union['Merchant City'].replace(np.nan, 'No registrado'),\n",
    "    Merchant_State = union['Merchant State'].replace(np.nan, 'No registrado'),\n",
    "    Zip = union['Zip'].replace(np.nan, 'No registrado')\n",
    ")\n",
    "\n",
    "\n",
    "\n",
    "union = union.assign(\n",
    "    Errors= union['Errors?'].fillna('0'),\n",
    "    Fraud= union['Is Fraud?'].map({'No': 0, 'Yes': 1})\n",
    ")\n",
    "\n",
    "union = union.drop(\n",
    "    ['Errors?', 'Is Fraud?'], axis=1)\n",
    "\n"
   ]
  },
  {
   "cell_type": "code",
   "execution_count": 7,
   "metadata": {},
   "outputs": [],
   "source": [
    "def calc_days_until_expire(df):\n",
    "    df['days_until_expire'] = (df['Expires'] - df['Acct_Open_Date']).dt.days\n",
    "    return df\n",
    "\n",
    "union = union.map_partitions(calc_days_until_expire)"
   ]
  },
  {
   "cell_type": "code",
   "execution_count": 8,
   "metadata": {},
   "outputs": [],
   "source": [
    "def calc_pct_amount_limit(df):\n",
    "    df['pct_limit_amount'] = df['Amount'] / df['Credit_Limit']\n",
    "    return df\n",
    "\n",
    "union = union.map_partitions(calc_pct_amount_limit)"
   ]
  },
  {
   "cell_type": "code",
   "execution_count": 9,
   "metadata": {},
   "outputs": [],
   "source": [
    "union['InState'] = union.apply(lambda x: 1 if x['State'] == x['Merchant State'] else 0, axis= 1, meta= (None, 'int64'))\n",
    "union['InCity'] = union.apply(lambda x: 1 if x['City'] == x['Merchant City'] else 0, axis= 1, meta= (None, 'int64'))"
   ]
  },
  {
   "cell_type": "code",
   "execution_count": 10,
   "metadata": {},
   "outputs": [],
   "source": [
    "id_cols = ['User', 'Card', 'Year', 'Month', 'Day', 'Amount']\n",
    "\n",
    "cat_cols = ['Use Chip', 'Merchant Name', 'Merchant_City',\n",
    "            'Merchant_State','Errors','Card Brand',\n",
    "            'Card Type','Has Chip','Year PIN last Changed', 'Gender']\n",
    "\n",
    "\n",
    "cont_cols = ['Current Age', 'Retirement Age', 'Per_Capita_Income_Zipcode',\n",
    "            'Yearly_Income_Person', 'Total_Debt','FICO Score', 'Num Credit Cards']\n",
    "\n",
    "created_num = ['days_until_expire', 'pct_limit_amount', 'InState', 'InCity']\n",
    "\n",
    "\n",
    "columns_use = id_cols + cat_cols + cont_cols + created_num \n",
    "union = union[columns_use + ['Fraud']]"
   ]
  },
  {
   "cell_type": "code",
   "execution_count": 11,
   "metadata": {},
   "outputs": [
    {
     "ename": "",
     "evalue": "",
     "output_type": "error",
     "traceback": [
      "\u001b[1;31mThe Kernel crashed while executing code in the the current cell or a previous cell. Please review the code in the cell(s) to identify a possible cause of the failure. Click <a href='https://aka.ms/vscodeJupyterKernelCrash'>here</a> for more info. View Jupyter <a href='command:jupyter.viewOutput'>log</a> for further details."
     ]
    },
    {
     "ename": "",
     "evalue": "",
     "output_type": "error",
     "traceback": [
      "\u001b[1;31mCanceled future for execute_request message before replies were done"
     ]
    }
   ],
   "source": [
    "rforest = RandomForestClassifier()\n",
    "for user in union.User.unique():\n",
    "    user_df = union.loc[union.User == user].compute()\n",
    "    print('1')\n",
    "    X = user_df[columns_use]\n",
    "    y = user_df.Fraud\n",
    "\n",
    "    lab_enc = LabelEncoder()\n",
    "    for col in cat_cols:\n",
    "        X[col] = lab_enc.fit_transform(X[col])\n",
    "\n",
    "    print('1')\n",
    "    Xt, Xv, yt, yv = train_test_split(X, y, train_size= 0.6)\n",
    "    rforest.fit(Xt, yt)\n",
    "    y_pred = rforest.predict(Xv)\n",
    "    print('Para el año: ', user)\n",
    "    print(f'Presicion : {precision_score(yv, y_pred)}')\n",
    "    print(f'Recall : {recall_score(yv, y_pred)}')\n",
    "    print(f'F1 : {f1_score(yv, y_pred)}')\n",
    "    "
   ]
  },
  {
   "cell_type": "code",
   "execution_count": null,
   "metadata": {},
   "outputs": [],
   "source": []
  }
 ],
 "metadata": {
  "kernelspec": {
   "display_name": "dcd_env",
   "language": "python",
   "name": "python3"
  },
  "language_info": {
   "codemirror_mode": {
    "name": "ipython",
    "version": 3
   },
   "file_extension": ".py",
   "mimetype": "text/x-python",
   "name": "python",
   "nbconvert_exporter": "python",
   "pygments_lexer": "ipython3",
   "version": "3.10.6"
  },
  "orig_nbformat": 4,
  "vscode": {
   "interpreter": {
    "hash": "875515bb85dbec387656c5d9af2fd970fd1bed4672db074957975cabf790c08e"
   }
  }
 },
 "nbformat": 4,
 "nbformat_minor": 2
}
